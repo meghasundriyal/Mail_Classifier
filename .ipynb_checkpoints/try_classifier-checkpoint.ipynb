{
 "cells": [
  {
   "cell_type": "code",
   "execution_count": 11,
   "metadata": {},
   "outputs": [],
   "source": [
    "from nltk.tokenize import word_tokenize\n",
    "from nltk.corpus import stopwords\n",
    "from nltk.stem import PorterStemmer, WordNetLemmatizer  \n",
    "import matplotlib.pyplot as plt\n",
    "import pandas as pd\n",
    "import numpy as np\n",
    "import re\n",
    "from sklearn.model_selection import train_test_split  "
   ]
  },
  {
   "cell_type": "code",
   "execution_count": 12,
   "metadata": {},
   "outputs": [
    {
     "data": {
      "text/html": [
       "<div>\n",
       "<style scoped>\n",
       "    .dataframe tbody tr th:only-of-type {\n",
       "        vertical-align: middle;\n",
       "    }\n",
       "\n",
       "    .dataframe tbody tr th {\n",
       "        vertical-align: top;\n",
       "    }\n",
       "\n",
       "    .dataframe thead th {\n",
       "        text-align: right;\n",
       "    }\n",
       "</style>\n",
       "<table border=\"1\" class=\"dataframe\">\n",
       "  <thead>\n",
       "    <tr style=\"text-align: right;\">\n",
       "      <th></th>\n",
       "      <th>sno</th>\n",
       "      <th>v1</th>\n",
       "      <th>v2</th>\n",
       "      <th>Unnamed: 3</th>\n",
       "      <th>Unnamed: 4</th>\n",
       "    </tr>\n",
       "  </thead>\n",
       "  <tbody>\n",
       "    <tr>\n",
       "      <th>0</th>\n",
       "      <td>1</td>\n",
       "      <td>spam</td>\n",
       "      <td>Free entry in 2 a wkly comp to win FA Cup fina...</td>\n",
       "      <td>NaN</td>\n",
       "      <td>NaN</td>\n",
       "    </tr>\n",
       "    <tr>\n",
       "      <th>1</th>\n",
       "      <td>2</td>\n",
       "      <td>spam</td>\n",
       "      <td>FreeMsg Hey there darling it's been 3 week's n...</td>\n",
       "      <td>NaN</td>\n",
       "      <td>NaN</td>\n",
       "    </tr>\n",
       "    <tr>\n",
       "      <th>2</th>\n",
       "      <td>3</td>\n",
       "      <td>spam</td>\n",
       "      <td>WINNER!! As a valued network customer you have...</td>\n",
       "      <td>NaN</td>\n",
       "      <td>NaN</td>\n",
       "    </tr>\n",
       "    <tr>\n",
       "      <th>3</th>\n",
       "      <td>4</td>\n",
       "      <td>spam</td>\n",
       "      <td>Had your mobile 11 months or more? U R entitle...</td>\n",
       "      <td>NaN</td>\n",
       "      <td>NaN</td>\n",
       "    </tr>\n",
       "    <tr>\n",
       "      <th>4</th>\n",
       "      <td>5</td>\n",
       "      <td>spam</td>\n",
       "      <td>SIX chances to win CASH! From 100 to 20,000 po...</td>\n",
       "      <td>NaN</td>\n",
       "      <td>NaN</td>\n",
       "    </tr>\n",
       "  </tbody>\n",
       "</table>\n",
       "</div>"
      ],
      "text/plain": [
       "   sno    v1                                                 v2 Unnamed: 3  \\\n",
       "0    1  spam  Free entry in 2 a wkly comp to win FA Cup fina...        NaN   \n",
       "1    2  spam  FreeMsg Hey there darling it's been 3 week's n...        NaN   \n",
       "2    3  spam  WINNER!! As a valued network customer you have...        NaN   \n",
       "3    4  spam  Had your mobile 11 months or more? U R entitle...        NaN   \n",
       "4    5  spam  SIX chances to win CASH! From 100 to 20,000 po...        NaN   \n",
       "\n",
       "  Unnamed: 4  \n",
       "0        NaN  \n",
       "1        NaN  \n",
       "2        NaN  \n",
       "3        NaN  \n",
       "4        NaN  "
      ]
     },
     "execution_count": 12,
     "metadata": {},
     "output_type": "execute_result"
    }
   ],
   "source": [
    "mails_dataset = pd.read_csv('Dataset/trial_spam.csv', encoding = 'latin-1')\n",
    "mails_dataset.head()           #show first 5 rows"
   ]
  },
  {
   "cell_type": "code",
   "execution_count": 13,
   "metadata": {},
   "outputs": [
    {
     "data": {
      "text/html": [
       "<div>\n",
       "<style scoped>\n",
       "    .dataframe tbody tr th:only-of-type {\n",
       "        vertical-align: middle;\n",
       "    }\n",
       "\n",
       "    .dataframe tbody tr th {\n",
       "        vertical-align: top;\n",
       "    }\n",
       "\n",
       "    .dataframe thead th {\n",
       "        text-align: right;\n",
       "    }\n",
       "</style>\n",
       "<table border=\"1\" class=\"dataframe\">\n",
       "  <thead>\n",
       "    <tr style=\"text-align: right;\">\n",
       "      <th></th>\n",
       "      <th>sno</th>\n",
       "      <th>v1</th>\n",
       "      <th>v2</th>\n",
       "    </tr>\n",
       "  </thead>\n",
       "  <tbody>\n",
       "    <tr>\n",
       "      <th>0</th>\n",
       "      <td>1</td>\n",
       "      <td>spam</td>\n",
       "      <td>Free entry in 2 a wkly comp to win FA Cup fina...</td>\n",
       "    </tr>\n",
       "    <tr>\n",
       "      <th>1</th>\n",
       "      <td>2</td>\n",
       "      <td>spam</td>\n",
       "      <td>FreeMsg Hey there darling it's been 3 week's n...</td>\n",
       "    </tr>\n",
       "    <tr>\n",
       "      <th>2</th>\n",
       "      <td>3</td>\n",
       "      <td>spam</td>\n",
       "      <td>WINNER!! As a valued network customer you have...</td>\n",
       "    </tr>\n",
       "    <tr>\n",
       "      <th>3</th>\n",
       "      <td>4</td>\n",
       "      <td>spam</td>\n",
       "      <td>Had your mobile 11 months or more? U R entitle...</td>\n",
       "    </tr>\n",
       "    <tr>\n",
       "      <th>4</th>\n",
       "      <td>5</td>\n",
       "      <td>spam</td>\n",
       "      <td>SIX chances to win CASH! From 100 to 20,000 po...</td>\n",
       "    </tr>\n",
       "  </tbody>\n",
       "</table>\n",
       "</div>"
      ],
      "text/plain": [
       "   sno    v1                                                 v2\n",
       "0    1  spam  Free entry in 2 a wkly comp to win FA Cup fina...\n",
       "1    2  spam  FreeMsg Hey there darling it's been 3 week's n...\n",
       "2    3  spam  WINNER!! As a valued network customer you have...\n",
       "3    4  spam  Had your mobile 11 months or more? U R entitle...\n",
       "4    5  spam  SIX chances to win CASH! From 100 to 20,000 po..."
      ]
     },
     "execution_count": 13,
     "metadata": {},
     "output_type": "execute_result"
    }
   ],
   "source": [
    "#drop undesirable columns\n",
    "mails_dataset.drop(['Unnamed: 3', 'Unnamed: 4'], axis = 1, inplace = True)\n",
    "mails_dataset.head()"
   ]
  },
  {
   "cell_type": "code",
   "execution_count": 14,
   "metadata": {},
   "outputs": [
    {
     "data": {
      "text/html": [
       "<div>\n",
       "<style scoped>\n",
       "    .dataframe tbody tr th:only-of-type {\n",
       "        vertical-align: middle;\n",
       "    }\n",
       "\n",
       "    .dataframe tbody tr th {\n",
       "        vertical-align: top;\n",
       "    }\n",
       "\n",
       "    .dataframe thead th {\n",
       "        text-align: right;\n",
       "    }\n",
       "</style>\n",
       "<table border=\"1\" class=\"dataframe\">\n",
       "  <thead>\n",
       "    <tr style=\"text-align: right;\">\n",
       "      <th></th>\n",
       "      <th>docID</th>\n",
       "      <th>label</th>\n",
       "      <th>message</th>\n",
       "    </tr>\n",
       "  </thead>\n",
       "  <tbody>\n",
       "    <tr>\n",
       "      <th>0</th>\n",
       "      <td>1</td>\n",
       "      <td>spam</td>\n",
       "      <td>Free entry in 2 a wkly comp to win FA Cup fina...</td>\n",
       "    </tr>\n",
       "    <tr>\n",
       "      <th>1</th>\n",
       "      <td>2</td>\n",
       "      <td>spam</td>\n",
       "      <td>FreeMsg Hey there darling it's been 3 week's n...</td>\n",
       "    </tr>\n",
       "    <tr>\n",
       "      <th>2</th>\n",
       "      <td>3</td>\n",
       "      <td>spam</td>\n",
       "      <td>WINNER!! As a valued network customer you have...</td>\n",
       "    </tr>\n",
       "    <tr>\n",
       "      <th>3</th>\n",
       "      <td>4</td>\n",
       "      <td>spam</td>\n",
       "      <td>Had your mobile 11 months or more? U R entitle...</td>\n",
       "    </tr>\n",
       "    <tr>\n",
       "      <th>4</th>\n",
       "      <td>5</td>\n",
       "      <td>spam</td>\n",
       "      <td>SIX chances to win CASH! From 100 to 20,000 po...</td>\n",
       "    </tr>\n",
       "  </tbody>\n",
       "</table>\n",
       "</div>"
      ],
      "text/plain": [
       "   docID label                                            message\n",
       "0      1  spam  Free entry in 2 a wkly comp to win FA Cup fina...\n",
       "1      2  spam  FreeMsg Hey there darling it's been 3 week's n...\n",
       "2      3  spam  WINNER!! As a valued network customer you have...\n",
       "3      4  spam  Had your mobile 11 months or more? U R entitle...\n",
       "4      5  spam  SIX chances to win CASH! From 100 to 20,000 po..."
      ]
     },
     "execution_count": 14,
     "metadata": {},
     "output_type": "execute_result"
    }
   ],
   "source": [
    "#Rename the columns, to make it easy to read and manipulate\n",
    "mails_dataset.rename(columns = {'sno': 'docID', 'v1': 'label', 'v2': 'message'}, inplace = True)\n",
    "mails_dataset.head()"
   ]
  },
  {
   "cell_type": "code",
   "execution_count": 15,
   "metadata": {},
   "outputs": [
    {
     "data": {
      "text/plain": [
       "spam    100\n",
       "ham     100\n",
       "Name: label, dtype: int64"
      ]
     },
     "execution_count": 15,
     "metadata": {},
     "output_type": "execute_result"
    }
   ],
   "source": [
    "mails_dataset['label'].value_counts()  #count number of each label"
   ]
  },
  {
   "cell_type": "code",
   "execution_count": 16,
   "metadata": {},
   "outputs": [
    {
     "data": {
      "text/plain": [
       "200"
      ]
     },
     "execution_count": 16,
     "metadata": {},
     "output_type": "execute_result"
    }
   ],
   "source": [
    "total_mails = mails_dataset.shape[0]\n",
    "total_mails"
   ]
  },
  {
   "cell_type": "code",
   "execution_count": 17,
   "metadata": {},
   "outputs": [
    {
     "data": {
      "text/html": [
       "<div>\n",
       "<style scoped>\n",
       "    .dataframe tbody tr th:only-of-type {\n",
       "        vertical-align: middle;\n",
       "    }\n",
       "\n",
       "    .dataframe tbody tr th {\n",
       "        vertical-align: top;\n",
       "    }\n",
       "\n",
       "    .dataframe thead th {\n",
       "        text-align: right;\n",
       "    }\n",
       "</style>\n",
       "<table border=\"1\" class=\"dataframe\">\n",
       "  <thead>\n",
       "    <tr style=\"text-align: right;\">\n",
       "      <th></th>\n",
       "      <th>docID</th>\n",
       "      <th>label</th>\n",
       "      <th>message</th>\n",
       "    </tr>\n",
       "  </thead>\n",
       "  <tbody>\n",
       "    <tr>\n",
       "      <th>0</th>\n",
       "      <td>1</td>\n",
       "      <td>1</td>\n",
       "      <td>Free entry in 2 a wkly comp to win FA Cup fina...</td>\n",
       "    </tr>\n",
       "    <tr>\n",
       "      <th>1</th>\n",
       "      <td>2</td>\n",
       "      <td>1</td>\n",
       "      <td>FreeMsg Hey there darling it's been 3 week's n...</td>\n",
       "    </tr>\n",
       "    <tr>\n",
       "      <th>2</th>\n",
       "      <td>3</td>\n",
       "      <td>1</td>\n",
       "      <td>WINNER!! As a valued network customer you have...</td>\n",
       "    </tr>\n",
       "    <tr>\n",
       "      <th>3</th>\n",
       "      <td>4</td>\n",
       "      <td>1</td>\n",
       "      <td>Had your mobile 11 months or more? U R entitle...</td>\n",
       "    </tr>\n",
       "    <tr>\n",
       "      <th>4</th>\n",
       "      <td>5</td>\n",
       "      <td>1</td>\n",
       "      <td>SIX chances to win CASH! From 100 to 20,000 po...</td>\n",
       "    </tr>\n",
       "  </tbody>\n",
       "</table>\n",
       "</div>"
      ],
      "text/plain": [
       "   docID  label                                            message\n",
       "0      1      1  Free entry in 2 a wkly comp to win FA Cup fina...\n",
       "1      2      1  FreeMsg Hey there darling it's been 3 week's n...\n",
       "2      3      1  WINNER!! As a valued network customer you have...\n",
       "3      4      1  Had your mobile 11 months or more? U R entitle...\n",
       "4      5      1  SIX chances to win CASH! From 100 to 20,000 po..."
      ]
     },
     "execution_count": 17,
     "metadata": {},
     "output_type": "execute_result"
    }
   ],
   "source": [
    "mails_dataset['label'] = mails_dataset['label'].map({'ham': 0, 'spam': 1})\n",
    "mails_dataset.head()"
   ]
  },
  {
   "cell_type": "code",
   "execution_count": 18,
   "metadata": {},
   "outputs": [
    {
     "data": {
      "text/html": [
       "<div>\n",
       "<style scoped>\n",
       "    .dataframe tbody tr th:only-of-type {\n",
       "        vertical-align: middle;\n",
       "    }\n",
       "\n",
       "    .dataframe tbody tr th {\n",
       "        vertical-align: top;\n",
       "    }\n",
       "\n",
       "    .dataframe thead th {\n",
       "        text-align: right;\n",
       "    }\n",
       "</style>\n",
       "<table border=\"1\" class=\"dataframe\">\n",
       "  <thead>\n",
       "    <tr style=\"text-align: right;\">\n",
       "      <th></th>\n",
       "      <th>docID</th>\n",
       "      <th>label</th>\n",
       "      <th>message</th>\n",
       "    </tr>\n",
       "  </thead>\n",
       "  <tbody>\n",
       "    <tr>\n",
       "      <th>0</th>\n",
       "      <td>1</td>\n",
       "      <td>1</td>\n",
       "      <td>free entry in 2 a wkly comp to win fa cup fina...</td>\n",
       "    </tr>\n",
       "    <tr>\n",
       "      <th>1</th>\n",
       "      <td>2</td>\n",
       "      <td>1</td>\n",
       "      <td>freemsg hey there darling it's been 3 week's n...</td>\n",
       "    </tr>\n",
       "    <tr>\n",
       "      <th>2</th>\n",
       "      <td>3</td>\n",
       "      <td>1</td>\n",
       "      <td>winner!! as a valued network customer you have...</td>\n",
       "    </tr>\n",
       "    <tr>\n",
       "      <th>3</th>\n",
       "      <td>4</td>\n",
       "      <td>1</td>\n",
       "      <td>had your mobile 11 months or more? u r entitle...</td>\n",
       "    </tr>\n",
       "    <tr>\n",
       "      <th>4</th>\n",
       "      <td>5</td>\n",
       "      <td>1</td>\n",
       "      <td>six chances to win cash! from 100 to 20,000 po...</td>\n",
       "    </tr>\n",
       "  </tbody>\n",
       "</table>\n",
       "</div>"
      ],
      "text/plain": [
       "   docID  label                                            message\n",
       "0      1      1  free entry in 2 a wkly comp to win fa cup fina...\n",
       "1      2      1  freemsg hey there darling it's been 3 week's n...\n",
       "2      3      1  winner!! as a valued network customer you have...\n",
       "3      4      1  had your mobile 11 months or more? u r entitle...\n",
       "4      5      1  six chances to win cash! from 100 to 20,000 po..."
      ]
     },
     "execution_count": 18,
     "metadata": {},
     "output_type": "execute_result"
    }
   ],
   "source": [
    "#lowercase\n",
    "mails_dataset['message'] = mails_dataset['message'].str.lower()\n",
    "mails_dataset.head()"
   ]
  },
  {
   "cell_type": "code",
   "execution_count": 19,
   "metadata": {},
   "outputs": [
    {
     "data": {
      "text/html": [
       "<div>\n",
       "<style scoped>\n",
       "    .dataframe tbody tr th:only-of-type {\n",
       "        vertical-align: middle;\n",
       "    }\n",
       "\n",
       "    .dataframe tbody tr th {\n",
       "        vertical-align: top;\n",
       "    }\n",
       "\n",
       "    .dataframe thead th {\n",
       "        text-align: right;\n",
       "    }\n",
       "</style>\n",
       "<table border=\"1\" class=\"dataframe\">\n",
       "  <thead>\n",
       "    <tr style=\"text-align: right;\">\n",
       "      <th></th>\n",
       "      <th>docID</th>\n",
       "      <th>label</th>\n",
       "      <th>message</th>\n",
       "    </tr>\n",
       "  </thead>\n",
       "  <tbody>\n",
       "    <tr>\n",
       "      <th>0</th>\n",
       "      <td>1</td>\n",
       "      <td>1</td>\n",
       "      <td>free entry in  a wkly comp to win fa cup final...</td>\n",
       "    </tr>\n",
       "    <tr>\n",
       "      <th>1</th>\n",
       "      <td>2</td>\n",
       "      <td>1</td>\n",
       "      <td>freemsg hey there darling it's been  week's no...</td>\n",
       "    </tr>\n",
       "    <tr>\n",
       "      <th>2</th>\n",
       "      <td>3</td>\n",
       "      <td>1</td>\n",
       "      <td>winner!! as a valued network customer you have...</td>\n",
       "    </tr>\n",
       "    <tr>\n",
       "      <th>3</th>\n",
       "      <td>4</td>\n",
       "      <td>1</td>\n",
       "      <td>had your mobile  months or more? u r entitled ...</td>\n",
       "    </tr>\n",
       "    <tr>\n",
       "      <th>4</th>\n",
       "      <td>5</td>\n",
       "      <td>1</td>\n",
       "      <td>six chances to win cash! from  to , pounds txt...</td>\n",
       "    </tr>\n",
       "  </tbody>\n",
       "</table>\n",
       "</div>"
      ],
      "text/plain": [
       "   docID  label                                            message\n",
       "0      1      1  free entry in  a wkly comp to win fa cup final...\n",
       "1      2      1  freemsg hey there darling it's been  week's no...\n",
       "2      3      1  winner!! as a valued network customer you have...\n",
       "3      4      1  had your mobile  months or more? u r entitled ...\n",
       "4      5      1  six chances to win cash! from  to , pounds txt..."
      ]
     },
     "execution_count": 19,
     "metadata": {},
     "output_type": "execute_result"
    }
   ],
   "source": [
    "#remove all digits\n",
    "mails_dataset['message'] = mails_dataset['message'].str.replace('\\d+', '')\n",
    "mails_dataset.head()"
   ]
  },
  {
   "cell_type": "markdown",
   "metadata": {},
   "source": [
    "### Remove all punctutations\n",
    "- ^   : Not these characters.\n",
    "- \\w  :  Word characters.\n",
    "- \\s :  Space characters.\n",
    "\n",
    "replace any character that is not a word character or a space character with nothing."
   ]
  },
  {
   "cell_type": "code",
   "execution_count": 20,
   "metadata": {},
   "outputs": [
    {
     "data": {
      "text/html": [
       "<div>\n",
       "<style scoped>\n",
       "    .dataframe tbody tr th:only-of-type {\n",
       "        vertical-align: middle;\n",
       "    }\n",
       "\n",
       "    .dataframe tbody tr th {\n",
       "        vertical-align: top;\n",
       "    }\n",
       "\n",
       "    .dataframe thead th {\n",
       "        text-align: right;\n",
       "    }\n",
       "</style>\n",
       "<table border=\"1\" class=\"dataframe\">\n",
       "  <thead>\n",
       "    <tr style=\"text-align: right;\">\n",
       "      <th></th>\n",
       "      <th>docID</th>\n",
       "      <th>label</th>\n",
       "      <th>message</th>\n",
       "    </tr>\n",
       "  </thead>\n",
       "  <tbody>\n",
       "    <tr>\n",
       "      <th>0</th>\n",
       "      <td>1</td>\n",
       "      <td>1</td>\n",
       "      <td>free entry in  a wkly comp to win fa cup final...</td>\n",
       "    </tr>\n",
       "    <tr>\n",
       "      <th>1</th>\n",
       "      <td>2</td>\n",
       "      <td>1</td>\n",
       "      <td>freemsg hey there darling its been  weeks now ...</td>\n",
       "    </tr>\n",
       "    <tr>\n",
       "      <th>2</th>\n",
       "      <td>3</td>\n",
       "      <td>1</td>\n",
       "      <td>winner as a valued network customer you have b...</td>\n",
       "    </tr>\n",
       "    <tr>\n",
       "      <th>3</th>\n",
       "      <td>4</td>\n",
       "      <td>1</td>\n",
       "      <td>had your mobile  months or more u r entitled t...</td>\n",
       "    </tr>\n",
       "    <tr>\n",
       "      <th>4</th>\n",
       "      <td>5</td>\n",
       "      <td>1</td>\n",
       "      <td>six chances to win cash from  to  pounds txt c...</td>\n",
       "    </tr>\n",
       "  </tbody>\n",
       "</table>\n",
       "</div>"
      ],
      "text/plain": [
       "   docID  label                                            message\n",
       "0      1      1  free entry in  a wkly comp to win fa cup final...\n",
       "1      2      1  freemsg hey there darling its been  weeks now ...\n",
       "2      3      1  winner as a valued network customer you have b...\n",
       "3      4      1  had your mobile  months or more u r entitled t...\n",
       "4      5      1  six chances to win cash from  to  pounds txt c..."
      ]
     },
     "execution_count": 20,
     "metadata": {},
     "output_type": "execute_result"
    }
   ],
   "source": [
    "mails_dataset['message'] = mails_dataset['message'].str.replace('[^\\w\\s]', '')\n",
    "mails_dataset.head()"
   ]
  },
  {
   "cell_type": "code",
   "execution_count": 21,
   "metadata": {},
   "outputs": [
    {
     "data": {
      "text/plain": [
       "'free entry in  a wkly comp to win fa cup final tkts st may  text fa to  to receive entry questionstd txt ratetcs apply overs'"
      ]
     },
     "execution_count": 21,
     "metadata": {},
     "output_type": "execute_result"
    }
   ],
   "source": [
    "sample_mail = mails_dataset.iloc[0]\n",
    "sample_mail['message']"
   ]
  },
  {
   "cell_type": "code",
   "execution_count": 101,
   "metadata": {},
   "outputs": [],
   "source": [
    "#create a dictionary of slang words and their corresponding terms\n",
    "slang_list = {'u': 'you', 'r': 'are', 'd': \"the\", 'urs' : 'yours', 'wkly' : 'weekly', 'st' : 'such that', \n",
    "              'txt': 'text','comp': 'competition', 'prctc' : 'practice', 'dffrnc': 'difference', 'y': 'why', \n",
    "              'f9':'fine', 'tkts': 'tickets', 'csh': 'cash', 'phn': 'phone', 'im': 'i am', 'm': 'am', 'spcl': 'special'}\n"
   ]
  },
  {
   "cell_type": "code",
   "execution_count": 102,
   "metadata": {},
   "outputs": [
    {
     "data": {
      "text/plain": [
       "'free entry in a weekly competition to win fa cup final tickets such that may text fa to to receive entry questionstd text ratetcs apply overs'"
      ]
     },
     "execution_count": 102,
     "metadata": {},
     "output_type": "execute_result"
    }
   ],
   "source": [
    "sample_mail = mails_dataset.iloc[0]\n",
    "message = sample_mail['message']\n",
    "\n",
    "new_message = ' '.join(slang_list[i] if i in slang_list else i for i in message.split())\n",
    "new_message"
   ]
  },
  {
   "cell_type": "code",
   "execution_count": 103,
   "metadata": {},
   "outputs": [
    {
     "data": {
      "text/html": [
       "<div>\n",
       "<style scoped>\n",
       "    .dataframe tbody tr th:only-of-type {\n",
       "        vertical-align: middle;\n",
       "    }\n",
       "\n",
       "    .dataframe tbody tr th {\n",
       "        vertical-align: top;\n",
       "    }\n",
       "\n",
       "    .dataframe thead th {\n",
       "        text-align: right;\n",
       "    }\n",
       "</style>\n",
       "<table border=\"1\" class=\"dataframe\">\n",
       "  <thead>\n",
       "    <tr style=\"text-align: right;\">\n",
       "      <th></th>\n",
       "      <th>docID</th>\n",
       "      <th>label</th>\n",
       "      <th>message</th>\n",
       "      <th>tokens</th>\n",
       "    </tr>\n",
       "  </thead>\n",
       "  <tbody>\n",
       "    <tr>\n",
       "      <th>0</th>\n",
       "      <td>1</td>\n",
       "      <td>1</td>\n",
       "      <td>free entry in a weekly competition to win fa c...</td>\n",
       "      <td>[free, entry, weekly, competition, win, fa, cu...</td>\n",
       "    </tr>\n",
       "    <tr>\n",
       "      <th>1</th>\n",
       "      <td>2</td>\n",
       "      <td>1</td>\n",
       "      <td>freemsg hey there darling its been weeks now a...</td>\n",
       "      <td>[freemsg, hey, darling, week, word, back, id, ...</td>\n",
       "    </tr>\n",
       "    <tr>\n",
       "      <th>2</th>\n",
       "      <td>3</td>\n",
       "      <td>1</td>\n",
       "      <td>winner as a valued network customer you have b...</td>\n",
       "      <td>[winner, valued, network, customer, selected, ...</td>\n",
       "    </tr>\n",
       "    <tr>\n",
       "      <th>3</th>\n",
       "      <td>4</td>\n",
       "      <td>1</td>\n",
       "      <td>had your mobile months or more you are entitle...</td>\n",
       "      <td>[mobile, month, entitled, update, latest, colo...</td>\n",
       "    </tr>\n",
       "    <tr>\n",
       "      <th>4</th>\n",
       "      <td>5</td>\n",
       "      <td>1</td>\n",
       "      <td>six chances to win cash from to pounds text ca...</td>\n",
       "      <td>[six, chance, win, cash, pound, text, cash, se...</td>\n",
       "    </tr>\n",
       "  </tbody>\n",
       "</table>\n",
       "</div>"
      ],
      "text/plain": [
       "   docID  label                                            message  \\\n",
       "0      1      1  free entry in a weekly competition to win fa c...   \n",
       "1      2      1  freemsg hey there darling its been weeks now a...   \n",
       "2      3      1  winner as a valued network customer you have b...   \n",
       "3      4      1  had your mobile months or more you are entitle...   \n",
       "4      5      1  six chances to win cash from to pounds text ca...   \n",
       "\n",
       "                                              tokens  \n",
       "0  [free, entry, weekly, competition, win, fa, cu...  \n",
       "1  [freemsg, hey, darling, week, word, back, id, ...  \n",
       "2  [winner, valued, network, customer, selected, ...  \n",
       "3  [mobile, month, entitled, update, latest, colo...  \n",
       "4  [six, chance, win, cash, pound, text, cash, se...  "
      ]
     },
     "execution_count": 103,
     "metadata": {},
     "output_type": "execute_result"
    }
   ],
   "source": [
    "#applying to all rows\n",
    "def convert_slangs(row):\n",
    "    message = row['message']\n",
    "    new_message = ' '.join(slang_list[i] if i in slang_list else i for i in message.split())\n",
    "    return new_message\n",
    "\n",
    "mails_dataset['message'] = mails_dataset.apply(convert_slangs, axis=1)\n",
    "mails_dataset.head()"
   ]
  },
  {
   "cell_type": "markdown",
   "metadata": {},
   "source": [
    "## Tokenise every message"
   ]
  },
  {
   "cell_type": "code",
   "execution_count": 104,
   "metadata": {},
   "outputs": [
    {
     "data": {
      "text/plain": [
       "['free',\n",
       " 'entry',\n",
       " 'in',\n",
       " 'a',\n",
       " 'weekly',\n",
       " 'competition',\n",
       " 'to',\n",
       " 'win',\n",
       " 'fa',\n",
       " 'cup',\n",
       " 'final',\n",
       " 'tickets',\n",
       " 'such',\n",
       " 'that',\n",
       " 'may',\n",
       " 'text',\n",
       " 'fa',\n",
       " 'to',\n",
       " 'to',\n",
       " 'receive',\n",
       " 'entry',\n",
       " 'questionstd',\n",
       " 'text',\n",
       " 'ratetcs',\n",
       " 'apply',\n",
       " 'overs']"
      ]
     },
     "execution_count": 104,
     "metadata": {},
     "output_type": "execute_result"
    }
   ],
   "source": [
    "sample_mail = mails_dataset.iloc[0]\n",
    "message = sample_mail['message']\n",
    "tokens = word_tokenize(message)\n",
    "token_words = [w for w in tokens if w.isalpha()]\n",
    "token_words"
   ]
  },
  {
   "cell_type": "code",
   "execution_count": 105,
   "metadata": {
    "scrolled": false
   },
   "outputs": [
    {
     "data": {
      "text/html": [
       "<div>\n",
       "<style scoped>\n",
       "    .dataframe tbody tr th:only-of-type {\n",
       "        vertical-align: middle;\n",
       "    }\n",
       "\n",
       "    .dataframe tbody tr th {\n",
       "        vertical-align: top;\n",
       "    }\n",
       "\n",
       "    .dataframe thead th {\n",
       "        text-align: right;\n",
       "    }\n",
       "</style>\n",
       "<table border=\"1\" class=\"dataframe\">\n",
       "  <thead>\n",
       "    <tr style=\"text-align: right;\">\n",
       "      <th></th>\n",
       "      <th>docID</th>\n",
       "      <th>label</th>\n",
       "      <th>message</th>\n",
       "      <th>tokens</th>\n",
       "    </tr>\n",
       "  </thead>\n",
       "  <tbody>\n",
       "    <tr>\n",
       "      <th>0</th>\n",
       "      <td>1</td>\n",
       "      <td>1</td>\n",
       "      <td>free entry in a weekly competition to win fa c...</td>\n",
       "      <td>[free, entry, in, a, weekly, competition, to, ...</td>\n",
       "    </tr>\n",
       "    <tr>\n",
       "      <th>1</th>\n",
       "      <td>2</td>\n",
       "      <td>1</td>\n",
       "      <td>freemsg hey there darling its been weeks now a...</td>\n",
       "      <td>[freemsg, hey, there, darling, its, been, week...</td>\n",
       "    </tr>\n",
       "    <tr>\n",
       "      <th>2</th>\n",
       "      <td>3</td>\n",
       "      <td>1</td>\n",
       "      <td>winner as a valued network customer you have b...</td>\n",
       "      <td>[winner, as, a, valued, network, customer, you...</td>\n",
       "    </tr>\n",
       "    <tr>\n",
       "      <th>3</th>\n",
       "      <td>4</td>\n",
       "      <td>1</td>\n",
       "      <td>had your mobile months or more you are entitle...</td>\n",
       "      <td>[had, your, mobile, months, or, more, you, are...</td>\n",
       "    </tr>\n",
       "    <tr>\n",
       "      <th>4</th>\n",
       "      <td>5</td>\n",
       "      <td>1</td>\n",
       "      <td>six chances to win cash from to pounds text ca...</td>\n",
       "      <td>[six, chances, to, win, cash, from, to, pounds...</td>\n",
       "    </tr>\n",
       "  </tbody>\n",
       "</table>\n",
       "</div>"
      ],
      "text/plain": [
       "   docID  label                                            message  \\\n",
       "0      1      1  free entry in a weekly competition to win fa c...   \n",
       "1      2      1  freemsg hey there darling its been weeks now a...   \n",
       "2      3      1  winner as a valued network customer you have b...   \n",
       "3      4      1  had your mobile months or more you are entitle...   \n",
       "4      5      1  six chances to win cash from to pounds text ca...   \n",
       "\n",
       "                                              tokens  \n",
       "0  [free, entry, in, a, weekly, competition, to, ...  \n",
       "1  [freemsg, hey, there, darling, its, been, week...  \n",
       "2  [winner, as, a, valued, network, customer, you...  \n",
       "3  [had, your, mobile, months, or, more, you, are...  \n",
       "4  [six, chances, to, win, cash, from, to, pounds...  "
      ]
     },
     "execution_count": 105,
     "metadata": {},
     "output_type": "execute_result"
    }
   ],
   "source": [
    "#applying to all rows\n",
    "def identify_tokens(row):\n",
    "    message = row['message']\n",
    "    tokens = word_tokenize(message)\n",
    "    token_words = [w for w in tokens if w.isalpha()]\n",
    "    return token_words\n",
    "\n",
    "mails_dataset['tokens'] = mails_dataset.apply(identify_tokens, axis=1)\n",
    "mails_dataset.head()"
   ]
  },
  {
   "cell_type": "markdown",
   "metadata": {},
   "source": [
    "## Stemming"
   ]
  },
  {
   "cell_type": "code",
   "execution_count": 106,
   "metadata": {},
   "outputs": [
    {
     "data": {
      "text/plain": [
       "\"\\nstemming = PorterStemmer()\\nsample_mail = mails_dataset.iloc[0]\\ntokens = sample_mail['tokens']\\nstemmed_list = [stemming.stem(word) for word in tokens]\\nstemmed_list\\n\""
      ]
     },
     "execution_count": 106,
     "metadata": {},
     "output_type": "execute_result"
    }
   ],
   "source": [
    "'''\n",
    "stemming = PorterStemmer()\n",
    "sample_mail = mails_dataset.iloc[0]\n",
    "tokens = sample_mail['tokens']\n",
    "stemmed_list = [stemming.stem(word) for word in tokens]\n",
    "stemmed_list\n",
    "'''"
   ]
  },
  {
   "cell_type": "markdown",
   "metadata": {},
   "source": [
    "## Lemmatization"
   ]
  },
  {
   "cell_type": "code",
   "execution_count": 107,
   "metadata": {},
   "outputs": [
    {
     "data": {
      "text/plain": [
       "['free',\n",
       " 'entry',\n",
       " 'in',\n",
       " 'a',\n",
       " 'weekly',\n",
       " 'competition',\n",
       " 'to',\n",
       " 'win',\n",
       " 'fa',\n",
       " 'cup',\n",
       " 'final',\n",
       " 'ticket',\n",
       " 'such',\n",
       " 'that',\n",
       " 'may',\n",
       " 'text',\n",
       " 'fa',\n",
       " 'to',\n",
       " 'to',\n",
       " 'receive',\n",
       " 'entry',\n",
       " 'questionstd',\n",
       " 'text',\n",
       " 'ratetcs',\n",
       " 'apply',\n",
       " 'over']"
      ]
     },
     "execution_count": 107,
     "metadata": {},
     "output_type": "execute_result"
    }
   ],
   "source": [
    "lemmatizer = WordNetLemmatizer() \n",
    "\n",
    "sample_mail = mails_dataset.iloc[0]\n",
    "tokens = sample_mail['tokens']\n",
    "lemmatize_list = [lemmatizer.lemmatize(word) for word in tokens]\n",
    "lemmatize_list"
   ]
  },
  {
   "cell_type": "code",
   "execution_count": 108,
   "metadata": {},
   "outputs": [
    {
     "data": {
      "text/html": [
       "<div>\n",
       "<style scoped>\n",
       "    .dataframe tbody tr th:only-of-type {\n",
       "        vertical-align: middle;\n",
       "    }\n",
       "\n",
       "    .dataframe tbody tr th {\n",
       "        vertical-align: top;\n",
       "    }\n",
       "\n",
       "    .dataframe thead th {\n",
       "        text-align: right;\n",
       "    }\n",
       "</style>\n",
       "<table border=\"1\" class=\"dataframe\">\n",
       "  <thead>\n",
       "    <tr style=\"text-align: right;\">\n",
       "      <th></th>\n",
       "      <th>docID</th>\n",
       "      <th>label</th>\n",
       "      <th>message</th>\n",
       "      <th>tokens</th>\n",
       "    </tr>\n",
       "  </thead>\n",
       "  <tbody>\n",
       "    <tr>\n",
       "      <th>0</th>\n",
       "      <td>1</td>\n",
       "      <td>1</td>\n",
       "      <td>free entry in a weekly competition to win fa c...</td>\n",
       "      <td>[free, entry, in, a, weekly, competition, to, ...</td>\n",
       "    </tr>\n",
       "    <tr>\n",
       "      <th>1</th>\n",
       "      <td>2</td>\n",
       "      <td>1</td>\n",
       "      <td>freemsg hey there darling its been weeks now a...</td>\n",
       "      <td>[freemsg, hey, there, darling, it, been, week,...</td>\n",
       "    </tr>\n",
       "    <tr>\n",
       "      <th>2</th>\n",
       "      <td>3</td>\n",
       "      <td>1</td>\n",
       "      <td>winner as a valued network customer you have b...</td>\n",
       "      <td>[winner, a, a, valued, network, customer, you,...</td>\n",
       "    </tr>\n",
       "    <tr>\n",
       "      <th>3</th>\n",
       "      <td>4</td>\n",
       "      <td>1</td>\n",
       "      <td>had your mobile months or more you are entitle...</td>\n",
       "      <td>[had, your, mobile, month, or, more, you, are,...</td>\n",
       "    </tr>\n",
       "    <tr>\n",
       "      <th>4</th>\n",
       "      <td>5</td>\n",
       "      <td>1</td>\n",
       "      <td>six chances to win cash from to pounds text ca...</td>\n",
       "      <td>[six, chance, to, win, cash, from, to, pound, ...</td>\n",
       "    </tr>\n",
       "  </tbody>\n",
       "</table>\n",
       "</div>"
      ],
      "text/plain": [
       "   docID  label                                            message  \\\n",
       "0      1      1  free entry in a weekly competition to win fa c...   \n",
       "1      2      1  freemsg hey there darling its been weeks now a...   \n",
       "2      3      1  winner as a valued network customer you have b...   \n",
       "3      4      1  had your mobile months or more you are entitle...   \n",
       "4      5      1  six chances to win cash from to pounds text ca...   \n",
       "\n",
       "                                              tokens  \n",
       "0  [free, entry, in, a, weekly, competition, to, ...  \n",
       "1  [freemsg, hey, there, darling, it, been, week,...  \n",
       "2  [winner, a, a, valued, network, customer, you,...  \n",
       "3  [had, your, mobile, month, or, more, you, are,...  \n",
       "4  [six, chance, to, win, cash, from, to, pound, ...  "
      ]
     },
     "execution_count": 108,
     "metadata": {},
     "output_type": "execute_result"
    }
   ],
   "source": [
    "def lemmatize_tokens(row):\n",
    "    tokens = row['tokens']\n",
    "    lemmatized_list = [lemmatizer.lemmatize(word) for word in tokens]\n",
    "    return (lemmatized_list)\n",
    "\n",
    "mails_dataset['tokens'] = mails_dataset.apply(lemmatize_tokens, axis=1)\n",
    "mails_dataset.head()"
   ]
  },
  {
   "cell_type": "code",
   "execution_count": null,
   "metadata": {},
   "outputs": [],
   "source": []
  },
  {
   "cell_type": "code",
   "execution_count": null,
   "metadata": {},
   "outputs": [],
   "source": []
  },
  {
   "cell_type": "markdown",
   "metadata": {},
   "source": [
    "## Remove stop words"
   ]
  },
  {
   "cell_type": "code",
   "execution_count": 109,
   "metadata": {},
   "outputs": [
    {
     "data": {
      "text/plain": [
       "['free',\n",
       " 'entry',\n",
       " 'weekly',\n",
       " 'competition',\n",
       " 'win',\n",
       " 'fa',\n",
       " 'cup',\n",
       " 'final',\n",
       " 'ticket',\n",
       " 'may',\n",
       " 'text',\n",
       " 'fa',\n",
       " 'receive',\n",
       " 'entry',\n",
       " 'questionstd',\n",
       " 'text',\n",
       " 'ratetcs',\n",
       " 'apply']"
      ]
     },
     "execution_count": 109,
     "metadata": {},
     "output_type": "execute_result"
    }
   ],
   "source": [
    "stop_words = set(stopwords.words('english')) \n",
    "sample_mail = mails_dataset.iloc[0]\n",
    "tokens = sample_mail['tokens']\n",
    "filtered_sentence = [w for w in tokens if not w in stop_words] \n",
    "filtered_sentence"
   ]
  },
  {
   "cell_type": "code",
   "execution_count": 110,
   "metadata": {},
   "outputs": [
    {
     "data": {
      "text/html": [
       "<div>\n",
       "<style scoped>\n",
       "    .dataframe tbody tr th:only-of-type {\n",
       "        vertical-align: middle;\n",
       "    }\n",
       "\n",
       "    .dataframe tbody tr th {\n",
       "        vertical-align: top;\n",
       "    }\n",
       "\n",
       "    .dataframe thead th {\n",
       "        text-align: right;\n",
       "    }\n",
       "</style>\n",
       "<table border=\"1\" class=\"dataframe\">\n",
       "  <thead>\n",
       "    <tr style=\"text-align: right;\">\n",
       "      <th></th>\n",
       "      <th>docID</th>\n",
       "      <th>label</th>\n",
       "      <th>message</th>\n",
       "      <th>tokens</th>\n",
       "    </tr>\n",
       "  </thead>\n",
       "  <tbody>\n",
       "    <tr>\n",
       "      <th>0</th>\n",
       "      <td>1</td>\n",
       "      <td>1</td>\n",
       "      <td>free entry in a weekly competition to win fa c...</td>\n",
       "      <td>[free, entry, weekly, competition, win, fa, cu...</td>\n",
       "    </tr>\n",
       "    <tr>\n",
       "      <th>1</th>\n",
       "      <td>2</td>\n",
       "      <td>1</td>\n",
       "      <td>freemsg hey there darling its been weeks now a...</td>\n",
       "      <td>[freemsg, hey, darling, week, word, back, id, ...</td>\n",
       "    </tr>\n",
       "    <tr>\n",
       "      <th>2</th>\n",
       "      <td>3</td>\n",
       "      <td>1</td>\n",
       "      <td>winner as a valued network customer you have b...</td>\n",
       "      <td>[winner, valued, network, customer, selected, ...</td>\n",
       "    </tr>\n",
       "    <tr>\n",
       "      <th>3</th>\n",
       "      <td>4</td>\n",
       "      <td>1</td>\n",
       "      <td>had your mobile months or more you are entitle...</td>\n",
       "      <td>[mobile, month, entitled, update, latest, colo...</td>\n",
       "    </tr>\n",
       "    <tr>\n",
       "      <th>4</th>\n",
       "      <td>5</td>\n",
       "      <td>1</td>\n",
       "      <td>six chances to win cash from to pounds text ca...</td>\n",
       "      <td>[six, chance, win, cash, pound, text, cash, se...</td>\n",
       "    </tr>\n",
       "  </tbody>\n",
       "</table>\n",
       "</div>"
      ],
      "text/plain": [
       "   docID  label                                            message  \\\n",
       "0      1      1  free entry in a weekly competition to win fa c...   \n",
       "1      2      1  freemsg hey there darling its been weeks now a...   \n",
       "2      3      1  winner as a valued network customer you have b...   \n",
       "3      4      1  had your mobile months or more you are entitle...   \n",
       "4      5      1  six chances to win cash from to pounds text ca...   \n",
       "\n",
       "                                              tokens  \n",
       "0  [free, entry, weekly, competition, win, fa, cu...  \n",
       "1  [freemsg, hey, darling, week, word, back, id, ...  \n",
       "2  [winner, valued, network, customer, selected, ...  \n",
       "3  [mobile, month, entitled, update, latest, colo...  \n",
       "4  [six, chance, win, cash, pound, text, cash, se...  "
      ]
     },
     "execution_count": 110,
     "metadata": {},
     "output_type": "execute_result"
    }
   ],
   "source": [
    "def remove_stopwords(row):\n",
    "    tokens = row['tokens']\n",
    "    filtered_list = [w for w in tokens if not w in stop_words]\n",
    "    return (filtered_list)\n",
    "\n",
    "mails_dataset['tokens'] = mails_dataset.apply(remove_stopwords , axis=1)\n",
    "mails_dataset.head()"
   ]
  },
  {
   "cell_type": "markdown",
   "metadata": {},
   "source": [
    "#### >>>>Now our data is clean and ready for training"
   ]
  },
  {
   "cell_type": "markdown",
   "metadata": {},
   "source": [
    "## Training and Testing Sets\n",
    "\n",
    "We will randomly split our dataset in 80–20 ratio. Where 80% of the total data will be used as training set and rest 20% will be considered as test set. "
   ]
  },
  {
   "cell_type": "code",
   "execution_count": 117,
   "metadata": {},
   "outputs": [],
   "source": [
    "X = mails_dataset.drop('label',axis=1) \n",
    "y = mails_dataset['label']\n",
    "\n",
    "#random state = 0, will give same split o=evry time. \n",
    "X_train, X_test, y_train, y_test = train_test_split(X, y, test_size=0.2, random_state=0)"
   ]
  },
  {
   "cell_type": "code",
   "execution_count": 118,
   "metadata": {},
   "outputs": [
    {
     "name": "stdout",
     "output_type": "stream",
     "text": [
      "Number of instance in :\n",
      " Training set =  160 \n",
      " Test set =  40\n"
     ]
    }
   ],
   "source": [
    "test_size, train_size = X_test.shape[0], X_train.shape[0]\n",
    "print(\"Number of instance in :\\n Training set = \", train_size, \"\\n Test set = \", test_size)"
   ]
  },
  {
   "cell_type": "code",
   "execution_count": 119,
   "metadata": {},
   "outputs": [
    {
     "data": {
      "text/html": [
       "<div>\n",
       "<style scoped>\n",
       "    .dataframe tbody tr th:only-of-type {\n",
       "        vertical-align: middle;\n",
       "    }\n",
       "\n",
       "    .dataframe tbody tr th {\n",
       "        vertical-align: top;\n",
       "    }\n",
       "\n",
       "    .dataframe thead th {\n",
       "        text-align: right;\n",
       "    }\n",
       "</style>\n",
       "<table border=\"1\" class=\"dataframe\">\n",
       "  <thead>\n",
       "    <tr style=\"text-align: right;\">\n",
       "      <th></th>\n",
       "      <th>docID</th>\n",
       "      <th>message</th>\n",
       "      <th>tokens</th>\n",
       "    </tr>\n",
       "  </thead>\n",
       "  <tbody>\n",
       "    <tr>\n",
       "      <th>134</th>\n",
       "      <td>135</td>\n",
       "      <td>yeah you should i think you can use your gt at...</td>\n",
       "      <td>[yeah, think, use, gt, atm, register, sure, an...</td>\n",
       "    </tr>\n",
       "    <tr>\n",
       "      <th>66</th>\n",
       "      <td>67</td>\n",
       "      <td>upgrdcentre orange customer you may now claim ...</td>\n",
       "      <td>[upgrdcentre, orange, customer, may, claim, fr...</td>\n",
       "    </tr>\n",
       "    <tr>\n",
       "      <th>26</th>\n",
       "      <td>27</td>\n",
       "      <td>customer service annoncement you have a new ye...</td>\n",
       "      <td>[customer, service, annoncement, new, year, de...</td>\n",
       "    </tr>\n",
       "    <tr>\n",
       "      <th>113</th>\n",
       "      <td>114</td>\n",
       "      <td>hi its kate how is your evening i hope i can s...</td>\n",
       "      <td>[hi, kate, evening, hope, see, tomorrow, bit, ...</td>\n",
       "    </tr>\n",
       "    <tr>\n",
       "      <th>168</th>\n",
       "      <td>169</td>\n",
       "      <td>iûm parked next to a mini when are you coming ...</td>\n",
       "      <td>[iûm, parked, next, mini, coming, today, think]</td>\n",
       "    </tr>\n",
       "  </tbody>\n",
       "</table>\n",
       "</div>"
      ],
      "text/plain": [
       "     docID                                            message  \\\n",
       "134    135  yeah you should i think you can use your gt at...   \n",
       "66      67  upgrdcentre orange customer you may now claim ...   \n",
       "26      27  customer service annoncement you have a new ye...   \n",
       "113    114  hi its kate how is your evening i hope i can s...   \n",
       "168    169  iûm parked next to a mini when are you coming ...   \n",
       "\n",
       "                                                tokens  \n",
       "134  [yeah, think, use, gt, atm, register, sure, an...  \n",
       "66   [upgrdcentre, orange, customer, may, claim, fr...  \n",
       "26   [customer, service, annoncement, new, year, de...  \n",
       "113  [hi, kate, evening, hope, see, tomorrow, bit, ...  \n",
       "168    [iûm, parked, next, mini, coming, today, think]  "
      ]
     },
     "execution_count": 119,
     "metadata": {},
     "output_type": "execute_result"
    }
   ],
   "source": [
    "X_train.head()"
   ]
  },
  {
   "cell_type": "code",
   "execution_count": 153,
   "metadata": {},
   "outputs": [
    {
     "data": {
      "text/html": [
       "<div>\n",
       "<style scoped>\n",
       "    .dataframe tbody tr th:only-of-type {\n",
       "        vertical-align: middle;\n",
       "    }\n",
       "\n",
       "    .dataframe tbody tr th {\n",
       "        vertical-align: top;\n",
       "    }\n",
       "\n",
       "    .dataframe thead th {\n",
       "        text-align: right;\n",
       "    }\n",
       "</style>\n",
       "<table border=\"1\" class=\"dataframe\">\n",
       "  <thead>\n",
       "    <tr style=\"text-align: right;\">\n",
       "      <th></th>\n",
       "      <th>label</th>\n",
       "    </tr>\n",
       "  </thead>\n",
       "  <tbody>\n",
       "    <tr>\n",
       "      <th>134</th>\n",
       "      <td>0</td>\n",
       "    </tr>\n",
       "    <tr>\n",
       "      <th>66</th>\n",
       "      <td>1</td>\n",
       "    </tr>\n",
       "    <tr>\n",
       "      <th>26</th>\n",
       "      <td>1</td>\n",
       "    </tr>\n",
       "    <tr>\n",
       "      <th>113</th>\n",
       "      <td>0</td>\n",
       "    </tr>\n",
       "    <tr>\n",
       "      <th>168</th>\n",
       "      <td>0</td>\n",
       "    </tr>\n",
       "  </tbody>\n",
       "</table>\n",
       "</div>"
      ],
      "text/plain": [
       "     label\n",
       "134      0\n",
       "66       1\n",
       "26       1\n",
       "113      0\n",
       "168      0"
      ]
     },
     "execution_count": 153,
     "metadata": {},
     "output_type": "execute_result"
    }
   ],
   "source": [
    "#y_train is an arrat. so in order to concat it with our X variables, we need to convert it into dataframe\n",
    "labels_train = pd.DataFrame(y_train, columns = ['label'])\n",
    "labels_train.head()"
   ]
  },
  {
   "cell_type": "code",
   "execution_count": 154,
   "metadata": {},
   "outputs": [
    {
     "data": {
      "text/html": [
       "<div>\n",
       "<style scoped>\n",
       "    .dataframe tbody tr th:only-of-type {\n",
       "        vertical-align: middle;\n",
       "    }\n",
       "\n",
       "    .dataframe tbody tr th {\n",
       "        vertical-align: top;\n",
       "    }\n",
       "\n",
       "    .dataframe thead th {\n",
       "        text-align: right;\n",
       "    }\n",
       "</style>\n",
       "<table border=\"1\" class=\"dataframe\">\n",
       "  <thead>\n",
       "    <tr style=\"text-align: right;\">\n",
       "      <th></th>\n",
       "      <th>docID</th>\n",
       "      <th>message</th>\n",
       "      <th>tokens</th>\n",
       "      <th>label</th>\n",
       "    </tr>\n",
       "  </thead>\n",
       "  <tbody>\n",
       "    <tr>\n",
       "      <th>0</th>\n",
       "      <td>135</td>\n",
       "      <td>yeah you should i think you can use your gt at...</td>\n",
       "      <td>[yeah, think, use, gt, atm, register, sure, an...</td>\n",
       "      <td>0</td>\n",
       "    </tr>\n",
       "    <tr>\n",
       "      <th>1</th>\n",
       "      <td>67</td>\n",
       "      <td>upgrdcentre orange customer you may now claim ...</td>\n",
       "      <td>[upgrdcentre, orange, customer, may, claim, fr...</td>\n",
       "      <td>1</td>\n",
       "    </tr>\n",
       "    <tr>\n",
       "      <th>2</th>\n",
       "      <td>27</td>\n",
       "      <td>customer service annoncement you have a new ye...</td>\n",
       "      <td>[customer, service, annoncement, new, year, de...</td>\n",
       "      <td>1</td>\n",
       "    </tr>\n",
       "    <tr>\n",
       "      <th>3</th>\n",
       "      <td>114</td>\n",
       "      <td>hi its kate how is your evening i hope i can s...</td>\n",
       "      <td>[hi, kate, evening, hope, see, tomorrow, bit, ...</td>\n",
       "      <td>0</td>\n",
       "    </tr>\n",
       "    <tr>\n",
       "      <th>4</th>\n",
       "      <td>169</td>\n",
       "      <td>iûm parked next to a mini when are you coming ...</td>\n",
       "      <td>[iûm, parked, next, mini, coming, today, think]</td>\n",
       "      <td>0</td>\n",
       "    </tr>\n",
       "  </tbody>\n",
       "</table>\n",
       "</div>"
      ],
      "text/plain": [
       "   docID                                            message  \\\n",
       "0    135  yeah you should i think you can use your gt at...   \n",
       "1     67  upgrdcentre orange customer you may now claim ...   \n",
       "2     27  customer service annoncement you have a new ye...   \n",
       "3    114  hi its kate how is your evening i hope i can s...   \n",
       "4    169  iûm parked next to a mini when are you coming ...   \n",
       "\n",
       "                                              tokens  label  \n",
       "0  [yeah, think, use, gt, atm, register, sure, an...      0  \n",
       "1  [upgrdcentre, orange, customer, may, claim, fr...      1  \n",
       "2  [customer, service, annoncement, new, year, de...      1  \n",
       "3  [hi, kate, evening, hope, see, tomorrow, bit, ...      0  \n",
       "4    [iûm, parked, next, mini, coming, today, think]      0  "
      ]
     },
     "execution_count": 154,
     "metadata": {},
     "output_type": "execute_result"
    }
   ],
   "source": [
    "'''\n",
    "    We have X_train, y_train, X_test, y_test.\n",
    "    Using these lists and dataframes we will randomly create two non-overlapping datasets \n",
    "        1. training set\n",
    "        2. testing set\n",
    "'''\n",
    "\n",
    "#creating training set\n",
    "train_set = pd.concat([X_train, labels_train], axis = 1).reset_index(drop=True)\n",
    "train_set.head()"
   ]
  },
  {
   "cell_type": "code",
   "execution_count": 155,
   "metadata": {},
   "outputs": [
    {
     "data": {
      "text/html": [
       "<div>\n",
       "<style scoped>\n",
       "    .dataframe tbody tr th:only-of-type {\n",
       "        vertical-align: middle;\n",
       "    }\n",
       "\n",
       "    .dataframe tbody tr th {\n",
       "        vertical-align: top;\n",
       "    }\n",
       "\n",
       "    .dataframe thead th {\n",
       "        text-align: right;\n",
       "    }\n",
       "</style>\n",
       "<table border=\"1\" class=\"dataframe\">\n",
       "  <thead>\n",
       "    <tr style=\"text-align: right;\">\n",
       "      <th></th>\n",
       "      <th>docID</th>\n",
       "      <th>message</th>\n",
       "      <th>tokens</th>\n",
       "      <th>label</th>\n",
       "    </tr>\n",
       "  </thead>\n",
       "  <tbody>\n",
       "    <tr>\n",
       "      <th>0</th>\n",
       "      <td>19</td>\n",
       "      <td>you are a winner you have been specially selec...</td>\n",
       "      <td>[winner, specially, selected, receive, å, holi...</td>\n",
       "      <td>1</td>\n",
       "    </tr>\n",
       "    <tr>\n",
       "      <th>1</th>\n",
       "      <td>171</td>\n",
       "      <td>anyway i am going shopping on my own now cos m...</td>\n",
       "      <td>[anyway, going, shopping, co, si, done, yet, d...</td>\n",
       "      <td>0</td>\n",
       "    </tr>\n",
       "    <tr>\n",
       "      <th>2</th>\n",
       "      <td>108</td>\n",
       "      <td>hi finally i completed the course</td>\n",
       "      <td>[hi, finally, completed, course]</td>\n",
       "      <td>0</td>\n",
       "    </tr>\n",
       "    <tr>\n",
       "      <th>3</th>\n",
       "      <td>99</td>\n",
       "      <td>hi i am sue i am years old and work as a lapda...</td>\n",
       "      <td>[hi, sue, year, old, work, lapdancer, love, se...</td>\n",
       "      <td>1</td>\n",
       "    </tr>\n",
       "    <tr>\n",
       "      <th>4</th>\n",
       "      <td>178</td>\n",
       "      <td>night has ended for another day morning has co...</td>\n",
       "      <td>[night, ha, ended, another, day, morning, ha, ...</td>\n",
       "      <td>0</td>\n",
       "    </tr>\n",
       "  </tbody>\n",
       "</table>\n",
       "</div>"
      ],
      "text/plain": [
       "   docID                                            message  \\\n",
       "0     19  you are a winner you have been specially selec...   \n",
       "1    171  anyway i am going shopping on my own now cos m...   \n",
       "2    108                  hi finally i completed the course   \n",
       "3     99  hi i am sue i am years old and work as a lapda...   \n",
       "4    178  night has ended for another day morning has co...   \n",
       "\n",
       "                                              tokens  label  \n",
       "0  [winner, specially, selected, receive, å, holi...      1  \n",
       "1  [anyway, going, shopping, co, si, done, yet, d...      0  \n",
       "2                   [hi, finally, completed, course]      0  \n",
       "3  [hi, sue, year, old, work, lapdancer, love, se...      1  \n",
       "4  [night, ha, ended, another, day, morning, ha, ...      0  "
      ]
     },
     "execution_count": 155,
     "metadata": {},
     "output_type": "execute_result"
    }
   ],
   "source": [
    "# Our training set is ready, similarly creating test set\n",
    "\n",
    "labels_test = pd.DataFrame(y_test, columns = ['label'])\n",
    "test_set = pd.concat([X_test, labels_test], axis = 1).reset_index(drop=True)\n",
    "test_set.head()"
   ]
  },
  {
   "cell_type": "markdown",
   "metadata": {},
   "source": [
    "#### >>>>Our training and test sets are ready, let's create our model"
   ]
  },
  {
   "cell_type": "markdown",
   "metadata": {},
   "source": [
    "# Multinomial Naive Bayes Classifier"
   ]
  },
  {
   "cell_type": "markdown",
   "metadata": {},
   "source": [
    "### Prior Probability of each class\n",
    "\n",
    "Prior probaility of class c, is computed as:\n",
    "\n",
    "    P(c) = (examples with label c) / (total examples)\n",
    "    "
   ]
  },
  {
   "cell_type": "code",
   "execution_count": 175,
   "metadata": {},
   "outputs": [
    {
     "data": {
      "text/plain": [
       "2"
      ]
     },
     "execution_count": 175,
     "metadata": {},
     "output_type": "execute_result"
    }
   ],
   "source": [
    "total_label = train_set['label'].nunique()\n",
    "total_label"
   ]
  },
  {
   "cell_type": "code",
   "execution_count": 179,
   "metadata": {},
   "outputs": [
    {
     "data": {
      "text/plain": [
       "82"
      ]
     },
     "execution_count": 179,
     "metadata": {},
     "output_type": "execute_result"
    }
   ],
   "source": [
    "#set of all instances wth class label = 1\n",
    "y1 = train_set[train_set.label == 1]\n",
    "\n",
    "#count instances with class label = 1 \n",
    "len(y1)"
   ]
  },
  {
   "cell_type": "code",
   "execution_count": 180,
   "metadata": {},
   "outputs": [
    {
     "data": {
      "text/plain": [
       "{0: 0.4875, 1: 0.5125}"
      ]
     },
     "execution_count": 180,
     "metadata": {},
     "output_type": "execute_result"
    }
   ],
   "source": [
    "#now calculate the prior probaility of each label/class\n",
    "\n",
    "prior = {}          #empty array\n",
    "\n",
    "for ci in range(total_label):\n",
    "    count_label = len(train_set[train_set.label == ci])\n",
    "    prior[ci] = count_label/train_size       \n",
    "    \n",
    "prior    "
   ]
  },
  {
   "cell_type": "markdown",
   "metadata": {},
   "source": [
    "### Conditional Probability of each term\n",
    "\n",
    "Cond probaility of term t, is computed as:\n",
    "\n",
    "    P(c) = (examples with label c) / (total examples)\n",
    "  "
   ]
  },
  {
   "cell_type": "code",
   "execution_count": null,
   "metadata": {},
   "outputs": [],
   "source": []
  }
 ],
 "metadata": {
  "kernelspec": {
   "display_name": "Python 3",
   "language": "python",
   "name": "python3"
  },
  "language_info": {
   "codemirror_mode": {
    "name": "ipython",
    "version": 3
   },
   "file_extension": ".py",
   "mimetype": "text/x-python",
   "name": "python",
   "nbconvert_exporter": "python",
   "pygments_lexer": "ipython3",
   "version": "3.7.3"
  }
 },
 "nbformat": 4,
 "nbformat_minor": 2
}
