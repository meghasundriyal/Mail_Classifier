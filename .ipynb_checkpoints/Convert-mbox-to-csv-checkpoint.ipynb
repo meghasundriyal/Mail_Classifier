{
 "cells": [
  {
   "cell_type": "code",
   "execution_count": 3,
   "metadata": {},
   "outputs": [],
   "source": [
    "import mailbox\n",
    "import csv\n",
    "\n",
    "writer = csv.writer(open(\"Dataset/all_mails.csv\", \"w\")) #wb = write binary\n",
    "writer.writerow(['Date','X-Gmail-Labels', 'Subject','From'])\n",
    "for message in mailbox.mbox('Mail/All mail Including Spam and Trash.mbox'):\n",
    "    writer.writerow([message['date'], message['X-Gmail-Labels'], message['subject'],  message['from'], meassage['']]) #Add here mail's labels to show in the csv"
   ]
  },
  {
   "cell_type": "code",
   "execution_count": null,
   "metadata": {},
   "outputs": [],
   "source": []
  }
 ],
 "metadata": {
  "kernelspec": {
   "display_name": "Python 3",
   "language": "python",
   "name": "python3"
  },
  "language_info": {
   "codemirror_mode": {
    "name": "ipython",
    "version": 3
   },
   "file_extension": ".py",
   "mimetype": "text/x-python",
   "name": "python",
   "nbconvert_exporter": "python",
   "pygments_lexer": "ipython3",
   "version": "3.7.3"
  }
 },
 "nbformat": 4,
 "nbformat_minor": 2
}
